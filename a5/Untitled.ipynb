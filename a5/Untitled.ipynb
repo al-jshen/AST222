{
 "cells": [
  {
   "cell_type": "code",
   "execution_count": 67,
   "metadata": {},
   "outputs": [],
   "source": [
    "import numpy as np\n",
    "import matplotlib.pyplot as plt\n",
    "%matplotlib inline\n",
    "from astropy import units as u\n",
    "from astropy import constants as const"
   ]
  },
  {
   "cell_type": "code",
   "execution_count": 54,
   "metadata": {},
   "outputs": [],
   "source": [
    "dists, vels = np.loadtxt('ShenJeff.dat', unpack=True)"
   ]
  },
  {
   "cell_type": "code",
   "execution_count": 57,
   "metadata": {},
   "outputs": [
    {
     "data": {
      "text/plain": [
       "(296.7834527807584, 1972.9606705987662)"
      ]
     },
     "execution_count": 57,
     "metadata": {},
     "output_type": "execute_result"
    }
   ],
   "source": [
    "# fit a linear model to the data. the slope should be the hubble parameter H_0\n",
    "slope, offset = np.polyfit(dists, vels, 1)\n",
    "slope, offset"
   ]
  },
  {
   "cell_type": "markdown",
   "metadata": {},
   "source": [
    "The present-day value of the Hubble parameter of this universe is $H_0 = 297~{\\rm km/s/Mpc}$."
   ]
  },
  {
   "cell_type": "code",
   "execution_count": 58,
   "metadata": {},
   "outputs": [],
   "source": [
    "xvals = np.linspace(min(dists), max(dists))"
   ]
  },
  {
   "cell_type": "code",
   "execution_count": 66,
   "metadata": {},
   "outputs": [
    {
     "data": {
      "text/plain": [
       "<matplotlib.legend.Legend at 0x1239e8350>"
      ]
     },
     "execution_count": 66,
     "metadata": {},
     "output_type": "execute_result"
    },
    {
     "data": {
      "image/png": "[encoded data removed]",
      "text/plain": [
       "<Figure size 432x288 with 1 Axes>"
      ]
     },
     "metadata": {
      "needs_background": "light"
     },
     "output_type": "display_data"
    }
   ],
   "source": [
    "# plot data and fit\n",
    "plt.scatter(dists, vels, c='b', label='data')\n",
    "plt.plot(xvals, offset + slope * xvals, c='r', label=f'fit: v={m:.0f}*D+{b:.0f}')\n",
    "plt.xlabel('distance (Mpc)')\n",
    "plt.ylabel('velocity (km/s)')\n",
    "plt.legend()"
   ]
  },
  {
   "cell_type": "code",
   "execution_count": 62,
   "metadata": {},
   "outputs": [
    {
     "data": {
      "text/latex": [
       "$3.2946319 \\; \\mathrm{Gyr}$"
      ],
      "text/plain": [
       "<Quantity 3.29463187 Gyr>"
      ]
     },
     "execution_count": 62,
     "metadata": {},
     "output_type": "execute_result"
    }
   ],
   "source": [
    "# assuming constant expansion, the age of the universe is given by 1/H_0\n",
    "h0 = m * (u.km / u.s) / u.Mpc\n",
    "(1/h0).to(u.Gyr)"
   ]
  },
  {
   "cell_type": "markdown",
   "metadata": {},
   "source": [
    "The age of this universe is 3.3 Gyr."
   ]
  },
  {
   "cell_type": "code",
   "execution_count": 65,
   "metadata": {},
   "outputs": [
    {
     "data": {
      "text/latex": [
       "$1.6544511 \\times 10^{-25} \\; \\mathrm{\\frac{kg}{m^{3}}}$"
      ],
      "text/plain": [
       "<Quantity 1.65445114e-25 kg / m3>"
      ]
     },
     "execution_count": 65,
     "metadata": {},
     "output_type": "execute_result"
    }
   ],
   "source": [
    "# use the friedmann equations to find the critical density:\n",
    "((3 * h0**2) / (8 * np.pi * const.G)).to(u.kg / u.m**3)"
   ]
  },
  {
   "cell_type": "markdown",
   "metadata": {},
   "source": [
    "The critical density of the universe is $\\rho_c = 1.65\\times 10^{-25}~{\\rm kg/m^3}$. From week 10's lecture slides, we know that $\\rho_{m, 0} = 2.56\\times 10^{-27}~{\\rm kg/m^3}$ and $\\rho_{b, 0} = 4.17\\times 10^{-28}~{\\rm kg/m^3}$. This means that if the density of matter in this alternate universe is the same as the density of our universe, that universe has a density parameter $\\Omega = \\rho/\\rho_c$ less than 1, so the universe is open. "
   ]
  }
 ],
 "metadata": {
  "kernelspec": {
   "display_name": "Python 3",
   "language": "python",
   "name": "python3"
  },
  "language_info": {
   "codemirror_mode": {
    "name": "ipython",
    "version": 3
   },
   "file_extension": ".py",
   "mimetype": "text/x-python",
   "name": "python",
   "nbconvert_exporter": "python",
   "pygments_lexer": "ipython3",
   "version": "3.7.7"
  }
 },
 "nbformat": 4,
 "nbformat_minor": 4
}
